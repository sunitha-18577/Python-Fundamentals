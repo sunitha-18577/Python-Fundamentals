{
  "cells": [
    {
      "cell_type": "markdown",
      "metadata": {
        "id": "view-in-github",
        "colab_type": "text"
      },
      "source": [
        "<a href=\"https://colab.research.google.com/github/sunitha-18577/Python-Fundamentals/blob/main/Hypothesis_Testing.ipynb\" target=\"_parent\"><img src=\"https://colab.research.google.com/assets/colab-badge.svg\" alt=\"Open In Colab\"/></a>"
      ]
    },
    {
      "cell_type": "code",
      "execution_count": null,
      "metadata": {
        "id": "4j--NPvFWtYF"
      },
      "outputs": [],
      "source": [
        "import random"
      ]
    },
    {
      "cell_type": "code",
      "execution_count": null,
      "metadata": {
        "id": "nG0dBDkMW2Bx"
      },
      "outputs": [],
      "source": [
        "def is_prime(num):\n",
        "  \"\"\"Check whether a number is prime or not\"\"\"\n",
        "  for i in range(2, num):\n",
        "    if num % i == 0:\n",
        "      return False\n",
        "  return True"
      ]
    },
    {
      "cell_type": "code",
      "execution_count": null,
      "metadata": {
        "id": "XlWSZSK-XAnB"
      },
      "outputs": [],
      "source": [
        "def product_of_random_numbers():\n",
        "  \"\"\"Generates two random prime numbers and returns their product\"\"\"\n",
        "  num1=random.randint(1,10)\n",
        "  num2=random.randint(1,10)\n",
        "  product=num1*num2\n",
        "  user_answer=int(input(f\"What is the product of {num1} and {num2}\"))\n",
        "  if user_answer==product:\n",
        "    print(\"Correct\")\n",
        "  else:\n",
        "    print(\"Incorrect\")\n"
      ]
    },
    {
      "cell_type": "code",
      "source": [
        "def squares_of_even_odd_numbers(choice):\n",
        "  if choice=='even':\n",
        "    for i in range(100,201):\n",
        "      if i%2==0:\n",
        "        print(i**2)\n",
        "      elif choice=='odd':\n",
        "        for i in range(100,201):\n",
        "          if i%2!=0:\n",
        "            print(i**2)\n"
      ],
      "metadata": {
        "id": "BzCy7_kl2uLP"
      },
      "execution_count": null,
      "outputs": []
    },
    {
      "cell_type": "code",
      "source": [
        "def word_counter(text):\n",
        "  words=text.split()\n",
        "  return len(words)"
      ],
      "metadata": {
        "id": "4_H-icH_3TmW"
      },
      "execution_count": null,
      "outputs": []
    },
    {
      "cell_type": "code",
      "execution_count": null,
      "metadata": {
        "colab": {
          "base_uri": "https://localhost:8080/"
        },
        "id": "giQ9DllkX9AQ",
        "outputId": "5b324741-9d90-404a-f152-404b66a8b6fb"
      },
      "outputs": [
        {
          "output_type": "stream",
          "name": "stdout",
          "text": [
            "Excercise 1:\n",
            "True\n",
            "False\n"
          ]
        }
      ],
      "source": [
        "print(\"Excercise 1:\")\n",
        "print(is_prime(11))\n",
        "print(is_prime(12))\n"
      ]
    },
    {
      "cell_type": "code",
      "source": [
        "print(\"\\nExcercise 2:\")\n",
        "product_of_random_numbers()"
      ],
      "metadata": {
        "colab": {
          "base_uri": "https://localhost:8080/"
        },
        "id": "OkVRvigR384V",
        "outputId": "b7659694-6a96-42d2-c4a8-0451d8c31d14"
      },
      "execution_count": null,
      "outputs": [
        {
          "output_type": "stream",
          "name": "stdout",
          "text": [
            "\n",
            "Excercise 2:\n",
            "What is the product of 7 and 27\n",
            "Incorrect\n"
          ]
        }
      ]
    },
    {
      "cell_type": "code",
      "source": [
        "print(\"\\nExcercise 3:\")\n",
        "squares_of_even_odd_numbers('even')\n",
        "squares_of_even_odd_numbers('odd')"
      ],
      "metadata": {
        "id": "DiJtvjU_4Nx0",
        "colab": {
          "base_uri": "https://localhost:8080/"
        },
        "outputId": "64f22425-380e-456b-e4b5-a956ee59e30a"
      },
      "execution_count": null,
      "outputs": [
        {
          "output_type": "stream",
          "name": "stdout",
          "text": [
            "\n",
            "Excercise 3:\n",
            "10000\n",
            "10404\n",
            "10816\n",
            "11236\n",
            "11664\n",
            "12100\n",
            "12544\n",
            "12996\n",
            "13456\n",
            "13924\n",
            "14400\n",
            "14884\n",
            "15376\n",
            "15876\n",
            "16384\n",
            "16900\n",
            "17424\n",
            "17956\n",
            "18496\n",
            "19044\n",
            "19600\n",
            "20164\n",
            "20736\n",
            "21316\n",
            "21904\n",
            "22500\n",
            "23104\n",
            "23716\n",
            "24336\n",
            "24964\n",
            "25600\n",
            "26244\n",
            "26896\n",
            "27556\n",
            "28224\n",
            "28900\n",
            "29584\n",
            "30276\n",
            "30976\n",
            "31684\n",
            "32400\n",
            "33124\n",
            "33856\n",
            "34596\n",
            "35344\n",
            "36100\n",
            "36864\n",
            "37636\n",
            "38416\n",
            "39204\n",
            "40000\n"
          ]
        }
      ]
    },
    {
      "cell_type": "code",
      "source": [
        "text_sample=\"This is a sample text\"\n",
        "print(f\"'{text_sample}':{word_counter(text_sample)}\")"
      ],
      "metadata": {
        "id": "unGaJfiC4NsG",
        "colab": {
          "base_uri": "https://localhost:8080/"
        },
        "outputId": "3cc5f2fe-a64c-4c31-8b0e-8b50c923b1ed"
      },
      "execution_count": null,
      "outputs": [
        {
          "output_type": "stream",
          "name": "stdout",
          "text": [
            "'This is a sample text':5\n"
          ]
        }
      ]
    },
    {
      "cell_type": "code",
      "source": [
        "def is_palindrome(word):\n",
        "  processed_wor = ''.join(filter(str.isalnum, word)).lower()\n",
        "  return processed_wor == processed_wor[::-1]\n"
      ],
      "metadata": {
        "id": "8MZzMxQ2Tod3"
      },
      "execution_count": null,
      "outputs": []
    },
    {
      "cell_type": "code",
      "source": [
        "print(\"\\nExcercise 5\")\n",
        "print (is_palindrome(\"racecar\"))\n",
        "print (is_palindrome(\"A man,a plan,a canal:Panama\"))\n",
        "print(is_palindrome(\"hello\"))"
      ],
      "metadata": {
        "colab": {
          "base_uri": "https://localhost:8080/"
        },
        "id": "zRtjKUzM4zOr",
        "outputId": "16498779-efca-417f-aeb8-7ba89f968265"
      },
      "execution_count": null,
      "outputs": [
        {
          "output_type": "stream",
          "name": "stdout",
          "text": [
            "\n",
            "Excercise 5\n",
            "True\n",
            "True\n",
            "False\n"
          ]
        }
      ]
    }
  ],
  "metadata": {
    "colab": {
      "provenance": [],
      "authorship_tag": "ABX9TyPoTeyAq3HI1fzuFRcAwl0F",
      "include_colab_link": true
    },
    "kernelspec": {
      "display_name": "Python 3",
      "name": "python3"
    },
    "language_info": {
      "name": "python"
    }
  },
  "nbformat": 4,
  "nbformat_minor": 0
}