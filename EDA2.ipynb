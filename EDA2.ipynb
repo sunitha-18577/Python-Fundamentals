{
  "nbformat": 4,
  "nbformat_minor": 0,
  "metadata": {
    "colab": {
      "provenance": [],
      "authorship_tag": "ABX9TyOnNwgCu+Ef1xeIOT08fjg9",
      "include_colab_link": true
    },
    "kernelspec": {
      "name": "python3",
      "display_name": "Python 3"
    },
    "language_info": {
      "name": "python"
    }
  },
  "cells": [
    {
      "cell_type": "markdown",
      "metadata": {
        "id": "view-in-github",
        "colab_type": "text"
      },
      "source": [
        "<a href=\"https://colab.research.google.com/github/sunitha-18577/Python-Fundamentals/blob/main/EDA2.ipynb\" target=\"_parent\"><img src=\"https://colab.research.google.com/assets/colab-badge.svg\" alt=\"Open In Colab\"/></a>"
      ]
    },
    {
      "cell_type": "code",
      "execution_count": null,
      "metadata": {
        "id": "paQJPbwu0ZSO"
      },
      "outputs": [],
      "source": [
        "import pandas as pd\n",
        "import numpy as np\n",
        "from sklearn.ensemble import IsolationForest\n",
        "from sklearn.preprocessing import MinMaxScaler,LabelEncoder\n",
        "from scipy.stats import pearsonr\n"
      ]
    },
    {
      "cell_type": "code",
      "source": [
        "try:\n",
        "  df=pd.read_csv('/content/adult_with_headers.csv')\n",
        "except FileNotFoundError:\n",
        "  print('File not found')\n",
        "  exit()"
      ],
      "metadata": {
        "id": "3Pupm4jw1l6N"
      },
      "execution_count": null,
      "outputs": []
    },
    {
      "cell_type": "code",
      "source": [
        "print(\"Summary Statistics:\")\n",
        "print(df.describe())\n",
        "print(\"\\nMissing Values:\")\n",
        "print(df.isnull().sum())\n",
        "print(\"\\nData types:\")\n",
        "print(df.dtypes)"
      ],
      "metadata": {
        "colab": {
          "base_uri": "https://localhost:8080/"
        },
        "id": "zCfMWrI31lNu",
        "outputId": "e6674072-6103-4afa-a0a3-ef245060a5d5"
      },
      "execution_count": null,
      "outputs": [
        {
          "output_type": "stream",
          "name": "stdout",
          "text": [
            "Summary Statistics:\n",
            "                age        fnlwgt  education_num  capital_gain  capital_loss  \\\n",
            "count  32561.000000  3.256100e+04   32561.000000  32561.000000  32561.000000   \n",
            "mean      38.581647  1.897784e+05      10.080679   1077.648844     87.303830   \n",
            "std       13.640433  1.055500e+05       2.572720   7385.292085    402.960219   \n",
            "min       17.000000  1.228500e+04       1.000000      0.000000      0.000000   \n",
            "25%       28.000000  1.178270e+05       9.000000      0.000000      0.000000   \n",
            "50%       37.000000  1.783560e+05      10.000000      0.000000      0.000000   \n",
            "75%       48.000000  2.370510e+05      12.000000      0.000000      0.000000   \n",
            "max       90.000000  1.484705e+06      16.000000  99999.000000   4356.000000   \n",
            "\n",
            "       hours_per_week  \n",
            "count    32561.000000  \n",
            "mean        40.437456  \n",
            "std         12.347429  \n",
            "min          1.000000  \n",
            "25%         40.000000  \n",
            "50%         40.000000  \n",
            "75%         45.000000  \n",
            "max         99.000000  \n",
            "\n",
            "Missing Values:\n",
            "age               0\n",
            "workclass         0\n",
            "fnlwgt            0\n",
            "education         0\n",
            "education_num     0\n",
            "marital_status    0\n",
            "occupation        0\n",
            "relationship      0\n",
            "race              0\n",
            "sex               0\n",
            "capital_gain      0\n",
            "capital_loss      0\n",
            "hours_per_week    0\n",
            "native_country    0\n",
            "income            0\n",
            "dtype: int64\n",
            "\n",
            "Data types:\n",
            "age                int64\n",
            "workclass         object\n",
            "fnlwgt             int64\n",
            "education         object\n",
            "education_num      int64\n",
            "marital_status    object\n",
            "occupation        object\n",
            "relationship      object\n",
            "race              object\n",
            "sex               object\n",
            "capital_gain       int64\n",
            "capital_loss       int64\n",
            "hours_per_week     int64\n",
            "native_country    object\n",
            "income            object\n",
            "dtype: object\n"
          ]
        }
      ]
    },
    {
      "cell_type": "code",
      "source": [
        "for col in df.columns:\n",
        "  if df[col].isnull().sum()>0:\n",
        "    if pd.api.types.is_numeric_dtypes(df[col]):\n",
        "      df[col]=df[col].fillna(df[col].mean())\n",
        "    else:\n",
        "      df[col]=df[col].fillna(df[col].mode()[0])"
      ],
      "metadata": {
        "id": "83uF2bb_2Bx3"
      },
      "execution_count": null,
      "outputs": []
    },
    {
      "cell_type": "code",
      "source": [
        "numerical_cols=df.select_dtypes(include=np.number).columns.tolist()\n",
        "df_standard_scaled=df.copy()\n",
        "df_minmax_scaled=df.copy()\n",
        "for col in numerical_cols:\n",
        "  df_standard_scaled[col]=(df_standard_scaled[col]-df_standard_scaled[col].mean()/df_standard_scaled[col].std())\n",
        "scaler=MinMaxScaler()\n",
        "df_minmax_scaled[numerical_cols]=scaler.fit_transform(df_minmax_scaled[numerical_cols])\n",
        "print(\"\\nStandard scaled data(first 5 rows):\")\n",
        "print(df_standard_scaled.head())\n",
        "print(\"\\nMin-Max scaled data(first 5 rows):\")\n",
        "print(df_minmax_scaled.head())"
      ],
      "metadata": {
        "colab": {
          "base_uri": "https://localhost:8080/"
        },
        "id": "HbzM-nU84hi0",
        "outputId": "dd8aa858-2442-4ed1-a19c-1b932a8edfdb"
      },
      "execution_count": null,
      "outputs": [
        {
          "output_type": "stream",
          "name": "stdout",
          "text": [
            "\n",
            "Standard scaled data(first 5 rows):\n",
            "         age          workclass         fnlwgt   education  education_num  \\\n",
            "0  36.171523          State-gov   77514.202005   Bachelors       9.081704   \n",
            "1  47.171523   Self-emp-not-inc   83309.202005   Bachelors       9.081704   \n",
            "2  35.171523            Private  215644.202005     HS-grad       5.081704   \n",
            "3  50.171523            Private  234719.202005        11th       3.081704   \n",
            "4  25.171523            Private  338407.202005   Bachelors       9.081704   \n",
            "\n",
            "        marital_status          occupation    relationship    race      sex  \\\n",
            "0        Never-married        Adm-clerical   Not-in-family   White     Male   \n",
            "1   Married-civ-spouse     Exec-managerial         Husband   White     Male   \n",
            "2             Divorced   Handlers-cleaners   Not-in-family   White     Male   \n",
            "3   Married-civ-spouse   Handlers-cleaners         Husband   Black     Male   \n",
            "4   Married-civ-spouse      Prof-specialty            Wife   Black   Female   \n",
            "\n",
            "   capital_gain  capital_loss  hours_per_week  native_country  income  \n",
            "0   2173.854082     -0.216656        36.72503   United-States   <=50K  \n",
            "1     -0.145918     -0.216656         9.72503   United-States   <=50K  \n",
            "2     -0.145918     -0.216656        36.72503   United-States   <=50K  \n",
            "3     -0.145918     -0.216656        36.72503   United-States   <=50K  \n",
            "4     -0.145918     -0.216656        36.72503            Cuba   <=50K  \n",
            "\n",
            "Min-Max scaled data(first 5 rows):\n",
            "        age          workclass    fnlwgt   education  education_num  \\\n",
            "0  0.301370          State-gov  0.044302   Bachelors       0.800000   \n",
            "1  0.452055   Self-emp-not-inc  0.048238   Bachelors       0.800000   \n",
            "2  0.287671            Private  0.138113     HS-grad       0.533333   \n",
            "3  0.493151            Private  0.151068        11th       0.400000   \n",
            "4  0.150685            Private  0.221488   Bachelors       0.800000   \n",
            "\n",
            "        marital_status          occupation    relationship    race      sex  \\\n",
            "0        Never-married        Adm-clerical   Not-in-family   White     Male   \n",
            "1   Married-civ-spouse     Exec-managerial         Husband   White     Male   \n",
            "2             Divorced   Handlers-cleaners   Not-in-family   White     Male   \n",
            "3   Married-civ-spouse   Handlers-cleaners         Husband   Black     Male   \n",
            "4   Married-civ-spouse      Prof-specialty            Wife   Black   Female   \n",
            "\n",
            "   capital_gain  capital_loss  hours_per_week  native_country  income  \n",
            "0       0.02174           0.0        0.397959   United-States   <=50K  \n",
            "1       0.00000           0.0        0.122449   United-States   <=50K  \n",
            "2       0.00000           0.0        0.397959   United-States   <=50K  \n",
            "3       0.00000           0.0        0.397959   United-States   <=50K  \n",
            "4       0.00000           0.0        0.397959            Cuba   <=50K  \n"
          ]
        }
      ]
    },
    {
      "cell_type": "code",
      "source": [
        "df_encoded=df.copy()\n",
        "categorical_cols=df.select_dtypes(include='object').columns.tolist()\n",
        "for col in categorical_cols:\n",
        "  if len(df[col].unique())<=5:\n",
        "    df_encoded=pd.get_dummies(df_encoded,columns=[col],prefix=col)"
      ],
      "metadata": {
        "id": "aTDjdBzb6Ijl"
      },
      "execution_count": null,
      "outputs": []
    },
    {
      "cell_type": "code",
      "source": [
        "categorical_cols_encoded = df_encoded.select_dtypes(include='object').columns.tolist()\n",
        "for col in categorical_cols_encoded:\n",
        "  if len(df_encoded[col].unique())>=5:\n",
        "    le=LabelEncoder()\n",
        "    df_encoded[col]=le.fit_transform(df_encoded[col])\n",
        "print(\"\\nEncoded data(first 5 rows):\")\n",
        "print(df_encoded.head())"
      ],
      "metadata": {
        "colab": {
          "base_uri": "https://localhost:8080/"
        },
        "id": "FzVCUojd43kn",
        "outputId": "2233be39-9c8b-458c-b05b-a7b324bfb0ea"
      },
      "execution_count": null,
      "outputs": [
        {
          "output_type": "stream",
          "name": "stdout",
          "text": [
            "\n",
            "Encoded data(first 5 rows):\n",
            "   age  workclass  fnlwgt  education  education_num  marital_status  \\\n",
            "0   39          7   77516          9             13               4   \n",
            "1   50          6   83311          9             13               2   \n",
            "2   38          4  215646         11              9               0   \n",
            "3   53          4  234721          1              7               2   \n",
            "4   28          4  338409          9             13               2   \n",
            "\n",
            "   occupation  relationship  capital_gain  capital_loss  ...  native_country  \\\n",
            "0           1             1          2174             0  ...              39   \n",
            "1           4             0             0             0  ...              39   \n",
            "2           6             1             0             0  ...              39   \n",
            "3           6             0             0             0  ...              39   \n",
            "4          10             5             0             0  ...               5   \n",
            "\n",
            "   race_ Amer-Indian-Eskimo  race_ Asian-Pac-Islander  race_ Black  \\\n",
            "0                     False                     False        False   \n",
            "1                     False                     False        False   \n",
            "2                     False                     False        False   \n",
            "3                     False                     False         True   \n",
            "4                     False                     False         True   \n",
            "\n",
            "   race_ Other  race_ White  sex_ Female  sex_ Male  income_ <=50K  \\\n",
            "0        False         True        False       True           True   \n",
            "1        False         True        False       True           True   \n",
            "2        False         True        False       True           True   \n",
            "3        False        False        False       True           True   \n",
            "4        False        False         True      False           True   \n",
            "\n",
            "   income_ >50K  \n",
            "0         False  \n",
            "1         False  \n",
            "2         False  \n",
            "3         False  \n",
            "4         False  \n",
            "\n",
            "[5 rows x 21 columns]\n"
          ]
        }
      ]
    },
    {
      "cell_type": "code",
      "source": [
        "df_engineered=df_encoded.copy()\n",
        "df_engineered['age_squared']=df_engineered['age']**2\n",
        "df_engineered['hours_per_week_squared']=df_engineered['hours_per_week']**2\n",
        "print(\"\\nEngineered data(first 5 rows):\")\n",
        "print(df_engineered.head())"
      ],
      "metadata": {
        "colab": {
          "base_uri": "https://localhost:8080/"
        },
        "id": "pxhR7vXN8Ivx",
        "outputId": "979804c4-ab72-4281-af10-52c3f3050a4e"
      },
      "execution_count": null,
      "outputs": [
        {
          "output_type": "stream",
          "name": "stdout",
          "text": [
            "\n",
            "Engineered data(first 5 rows):\n",
            "   age  workclass  fnlwgt  education  education_num  marital_status  \\\n",
            "0   39          7   77516          9             13               4   \n",
            "1   50          6   83311          9             13               2   \n",
            "2   38          4  215646         11              9               0   \n",
            "3   53          4  234721          1              7               2   \n",
            "4   28          4  338409          9             13               2   \n",
            "\n",
            "   occupation  relationship  capital_gain  capital_loss  ...  \\\n",
            "0           1             1          2174             0  ...   \n",
            "1           4             0             0             0  ...   \n",
            "2           6             1             0             0  ...   \n",
            "3           6             0             0             0  ...   \n",
            "4          10             5             0             0  ...   \n",
            "\n",
            "   race_ Asian-Pac-Islander  race_ Black  race_ Other  race_ White  \\\n",
            "0                     False        False        False         True   \n",
            "1                     False        False        False         True   \n",
            "2                     False        False        False         True   \n",
            "3                     False         True        False        False   \n",
            "4                     False         True        False        False   \n",
            "\n",
            "   sex_ Female  sex_ Male  income_ <=50K  income_ >50K  age_squared  \\\n",
            "0        False       True           True         False         1521   \n",
            "1        False       True           True         False         2500   \n",
            "2        False       True           True         False         1444   \n",
            "3        False       True           True         False         2809   \n",
            "4         True      False           True         False          784   \n",
            "\n",
            "   hours_per_week_squared  \n",
            "0                    1600  \n",
            "1                     169  \n",
            "2                    1600  \n",
            "3                    1600  \n",
            "4                    1600  \n",
            "\n",
            "[5 rows x 23 columns]\n"
          ]
        }
      ]
    },
    {
      "cell_type": "code",
      "source": [
        "iso_forest=IsolationForest(n_estimators=100,contamination='auto',random_state=42)\n",
        "outlier_scores=iso_forest.fit_predict(df_engineered[numerical_cols])\n",
        "outlier_labels=outlier_scores\n",
        "df_no_outliers=df_engineered[outlier_labels !=-1]\n",
        "print(\"\\nShape before removing outliers:\",df_engineered.shape)\n",
        "print(\"Shape after removing outliers:\",df_no_outliers.shape)\n"
      ],
      "metadata": {
        "colab": {
          "base_uri": "https://localhost:8080/"
        },
        "id": "8YgzNeqR8IL8",
        "outputId": "430ca8f2-27fe-4b70-c990-28822f5e5488"
      },
      "execution_count": null,
      "outputs": [
        {
          "output_type": "stream",
          "name": "stdout",
          "text": [
            "\n",
            "Shape before removing outliers: (32561, 23)\n",
            "Shape after removing outliers: (29247, 23)\n"
          ]
        }
      ]
    },
    {
      "cell_type": "code",
      "source": [
        "correlation_matrix=df_no_outliers[numerical_cols].corr(method =lambda x,y: pearsonr(x,y)[0])\n",
        "print(\"\\nCorrelation Matrix:\")\n",
        "print(correlation_matrix)"
      ],
      "metadata": {
        "colab": {
          "base_uri": "https://localhost:8080/"
        },
        "id": "rzxgnMFe-xhO",
        "outputId": "9590fbb6-dc8e-43ea-bb83-f5096b66ef87"
      },
      "execution_count": null,
      "outputs": [
        {
          "output_type": "stream",
          "name": "stdout",
          "text": [
            "\n",
            "Correlation Matrix:\n",
            "                     age    fnlwgt  education_num  capital_gain  capital_loss  \\\n",
            "age             1.000000 -0.075740       0.040510      0.074323      0.017255   \n",
            "fnlwgt         -0.075740  1.000000      -0.033550     -0.018473      0.000313   \n",
            "education_num   0.040510 -0.033550       1.000000      0.090800      0.012009   \n",
            "capital_gain    0.074323 -0.018473       0.090800      1.000000     -0.008829   \n",
            "capital_loss    0.017255  0.000313       0.012009     -0.008829      1.000000   \n",
            "hours_per_week  0.135762 -0.018476       0.128471      0.055781      0.000865   \n",
            "\n",
            "                hours_per_week  \n",
            "age                   0.135762  \n",
            "fnlwgt               -0.018476  \n",
            "education_num         0.128471  \n",
            "capital_gain          0.055781  \n",
            "capital_loss          0.000865  \n",
            "hours_per_week        1.000000  \n"
          ]
        }
      ]
    }
  ]
}