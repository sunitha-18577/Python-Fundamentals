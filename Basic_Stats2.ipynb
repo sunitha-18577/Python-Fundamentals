{
  "nbformat": 4,
  "nbformat_minor": 0,
  "metadata": {
    "colab": {
      "provenance": [],
      "authorship_tag": "ABX9TyMcf+ohG+0EMxm3Lt1b5ctB",
      "include_colab_link": true
    },
    "kernelspec": {
      "name": "python3",
      "display_name": "Python 3"
    },
    "language_info": {
      "name": "python"
    }
  },
  "cells": [
    {
      "cell_type": "markdown",
      "metadata": {
        "id": "view-in-github",
        "colab_type": "text"
      },
      "source": [
        "<a href=\"https://colab.research.google.com/github/sunitha-18577/Python-Fundamentals/blob/main/Basic_Stats2.ipynb\" target=\"_parent\"><img src=\"https://colab.research.google.com/assets/colab-badge.svg\" alt=\"Open In Colab\"/></a>"
      ]
    },
    {
      "cell_type": "code",
      "execution_count": null,
      "metadata": {
        "id": "NBLl7hF0QXbF"
      },
      "outputs": [],
      "source": [
        "import numpy as np\n",
        "from scipy import stats"
      ]
    },
    {
      "cell_type": "code",
      "source": [
        "data = np.array([1.13,1.55,1.43,0.92,1.25,1.36,1.32,0.95,1.25,1.36,1.32,0.85,1.07,1.48,1.20,1.33,1.18,1.22,1.29])\n",
        "alpha=0.01"
      ],
      "metadata": {
        "id": "SPU9oGgJQqKq"
      },
      "execution_count": null,
      "outputs": []
    },
    {
      "cell_type": "code",
      "source": [
        "n=len(data)\n",
        "mean=np.mean(data)\n",
        "std_dev=np.std(data,ddof=1)\n",
        "t_critical=stats.t.ppf(1-alpha/2,n-1)\n",
        "margin_of_error=t_critical*(std_dev/np.sqrt(n))\n",
        "confidence_interval=[mean-margin_of_error,mean+margin_of_error]\n",
        "print(\"a.99% confidence_interval(Sample SD):\", confidence_interval)\n"
      ],
      "metadata": {
        "colab": {
          "base_uri": "https://localhost:8080/"
        },
        "id": "fBdl5tXiReog",
        "outputId": "88ec82b5-07b3-4935-b9a0-bf1013ee9437"
      },
      "execution_count": null,
      "outputs": [
        {
          "output_type": "stream",
          "name": "stdout",
          "text": [
            "a.99% confidence_interval(Sample SD): [np.float64(1.1115017996971701), np.float64(1.3579718845133557)]\n"
          ]
        }
      ]
    },
    {
      "cell_type": "code",
      "source": [
        "population_std_dev=0.2\n",
        "z_critical=stats.norm.ppf(1-alpha/2)\n",
        "margin_of_error=z_critical*(population_std_dev/np.sqrt(n))\n",
        "confidence_interval=[mean-margin_of_error,mean+margin_of_error]\n",
        "print(\"b.99% Confidence Interval (Known Population SD):\", confidence_interval)"
      ],
      "metadata": {
        "colab": {
          "base_uri": "https://localhost:8080/"
        },
        "id": "x8SZ39kSR5mA",
        "outputId": "18f96724-ed56-4952-de17-f52d7eb033a6"
      },
      "execution_count": null,
      "outputs": [
        {
          "output_type": "stream",
          "name": "stdout",
          "text": [
            "b.99% Confidence Interval (Known Population SD): [np.float64(1.116549688105469), np.float64(1.3529239961050568)]\n"
          ]
        }
      ]
    }
  ]
}